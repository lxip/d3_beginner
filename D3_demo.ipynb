{
 "cells": [
  {
   "cell_type": "markdown",
   "metadata": {},
   "source": [
    "# Know [D3.js](https://github.com/d3/d3) in 10 minutes\n",
    "\n",
    "## What's D3\n",
    "A JavaScript library for manipulating documents based on data.\n",
    "\n",
    "It combines visualization and interaction techniques with a data-driven approach to DOM manipulation, giving capabilities and freedom to design the right visual interface for your data in modern browsers.\n",
    "\n",
    "### Glossary\n",
    "\n",
    "- __HTML / CSS__"
   ]
  },
  {
   "cell_type": "code",
   "execution_count": 1,
   "metadata": {},
   "outputs": [
    {
     "data": {
      "text/html": [
       "\n",
       "<!DOCTYPE html>\n",
       "<html>\n",
       "  <head>\n",
       "    <title>TITLE GOES HERE</title>\n",
       "    <style>\n",
       "      span {font-style: italic;}\n",
       "    </style>\n",
       "  </head>\n",
       "  <body>\n",
       "    <div>\n",
       "      <span>HyperText Markup Language</span> is a text format that most web pages are written in.\n",
       "    </div>\n",
       "  </body>\n",
       "</html>"
      ],
      "text/plain": [
       "<IPython.core.display.HTML object>"
      ]
     },
     "metadata": {},
     "output_type": "display_data"
    }
   ],
   "source": [
    "%%html\n",
    "\n",
    "<!DOCTYPE html>\n",
    "<html>\n",
    "  <head>\n",
    "    <title>TITLE GOES HERE</title>\n",
    "    <style>\n",
    "      span {font-style: italic;}\n",
    "    </style>\n",
    "  </head>\n",
    "  <body>\n",
    "    <div>\n",
    "      <span>HyperText Markup Language</span> is a text format that most web pages are written in.\n",
    "    </div>\n",
    "  </body>\n",
    "</html>"
   ]
  },
  {
   "cell_type": "markdown",
   "metadata": {},
   "source": [
    "- __DOM = Document Object Model__"
   ]
  },
  {
   "cell_type": "code",
   "execution_count": 2,
   "metadata": {},
   "outputs": [
    {
     "data": {
      "text/html": [
       "\n",
       "<div id=\"dom-id\">\n",
       "  An interactive <span>object graph</span> is created from the tag hierarchy when displaying HTML.\n",
       "</div>\n",
       "    \n",
       "<script>\n",
       "  document.getElementsByTagName('span').length;\n",
       "  document.getElementById('dom-id');\n",
       "</script>"
      ],
      "text/plain": [
       "<IPython.core.display.HTML object>"
      ]
     },
     "metadata": {},
     "output_type": "display_data"
    }
   ],
   "source": [
    "%%html\n",
    "\n",
    "<div id=\"dom-id\">\n",
    "  An interactive <span>object graph</span> is created from the tag hierarchy when displaying HTML.\n",
    "</div>\n",
    "    \n",
    "<script>\n",
    "  document.getElementsByTagName('span').length;\n",
    "  document.getElementById('dom-id');\n",
    "</script>\n"
   ]
  },
  {
   "cell_type": "markdown",
   "metadata": {},
   "source": [
    "- __SVG = Scaleable Object Model__"
   ]
  },
  {
   "cell_type": "code",
   "execution_count": 3,
   "metadata": {},
   "outputs": [
    {
     "data": {
      "text/html": [
       "\n",
       "<div>\n",
       "SVG is an XML format used for drawing. \n",
       "It defines tags for lots of basic shapes, like \"<\\rect>\", \"<\\circle>\", \"<\\line>\", \"<\\g>\", \"<\\text>\", \"<\\path>\" etc.\n",
       "There are elements with parents and children and attributes that you can respond to the same mouse/touch events.\n",
       "CSS styles and selectors can apply to SVG elements.\n",
       "</div>\n",
       "\n",
       "<svg width=\"300\" height=\"200\">\n",
       "    <g>\n",
       "        <circle cx=\"30\"  cy=\"50\" r=\"25\" />\n",
       "        <circle cx=\"90\"  cy=\"50\" r=\"25\" class=\"red\" />\n",
       "        <circle cx=\"150\" cy=\"50\" r=\"25\" class=\"dot\" />\n",
       "\n",
       "        <rect x=\"10\"  y=\"80\" width=\"40\" height=\"40\" fill=\"steelBlue\" />\n",
       "        <rect x=\"70\"  y=\"80\" width=\"40\" height=\"40\" style=\"fill: steelBlue\" />\n",
       "        <rect x=\"130\" y=\"80\" width=\"40\" height=\"40\" class=\"dot\" />\n",
       "    </g>\n",
       "    \n",
       "    <g transform=\"translate(25, 145)\">\n",
       "    <!-- M: move to (jump)\n",
       "         L: line to\n",
       "         Q: curve to (quadratic) -->\n",
       "        <path d=\"M1,50 L50,0 Q100,0 100,50\"fill=\"none\" stroke-width=\"3\" stroke=\"black\" />\n",
       "    </g>\n",
       "</svg>\n",
       "    \n",
       "<style>\n",
       "    .red {\n",
       "      fill: red; \n",
       "    }\n",
       "\n",
       "    .dot {\n",
       "      fill: none;\n",
       "      stroke: black; \n",
       "      stroke-width: 3pt; \n",
       "      stroke-dasharray: 3,5,10;\n",
       "    }\n",
       "</style>"
      ],
      "text/plain": [
       "<IPython.core.display.HTML object>"
      ]
     },
     "metadata": {},
     "output_type": "display_data"
    }
   ],
   "source": [
    "%%html\n",
    "\n",
    "<div>\n",
    "SVG is an XML format used for drawing. \n",
    "It defines tags for lots of basic shapes, like \"<\\rect>\", \"<\\circle>\", \"<\\line>\", \"<\\g>\", \"<\\text>\", \"<\\path>\" etc.\n",
    "There are elements with parents and children and attributes that you can respond to the same mouse/touch events.\n",
    "CSS styles and selectors can apply to SVG elements.\n",
    "</div>\n",
    "\n",
    "<svg width=\"300\" height=\"200\">\n",
    "    <g>\n",
    "        <circle cx=\"30\"  cy=\"50\" r=\"25\" />\n",
    "        <circle cx=\"90\"  cy=\"50\" r=\"25\" class=\"red\" />\n",
    "        <circle cx=\"150\" cy=\"50\" r=\"25\" class=\"dot\" />\n",
    "\n",
    "        <rect x=\"10\"  y=\"80\" width=\"40\" height=\"40\" fill=\"steelBlue\" />\n",
    "        <rect x=\"70\"  y=\"80\" width=\"40\" height=\"40\" style=\"fill: steelBlue\" />\n",
    "        <rect x=\"130\" y=\"80\" width=\"40\" height=\"40\" class=\"dot\" />\n",
    "    </g>\n",
    "    \n",
    "    <g transform=\"translate(25, 145)\">\n",
    "    <!-- M: move to (jump)\n",
    "         L: line to\n",
    "         Q: curve to (quadratic) -->\n",
    "        <path d=\"M1,50 L50,0 Q100,0 100,50\"fill=\"none\" stroke-width=\"3\" stroke=\"black\" />\n",
    "    </g>\n",
    "</svg>\n",
    "    \n",
    "<style>\n",
    "    .red {\n",
    "      fill: red; \n",
    "    }\n",
    "\n",
    "    .dot {\n",
    "      fill: none;\n",
    "      stroke: black; \n",
    "      stroke-width: 3pt; \n",
    "      stroke-dasharray: 3,5,10;\n",
    "    }\n",
    "</style>"
   ]
  },
  {
   "cell_type": "markdown",
   "metadata": {},
   "source": [
    "- __Data Binding__"
   ]
  },
  {
   "cell_type": "code",
   "execution_count": 4,
   "metadata": {},
   "outputs": [
    {
     "data": {
      "application/javascript": [
       "require.config({\n",
       "    paths: {d3: 'https://d3js.org/d3.v5.min'}\n",
       "});"
      ],
      "text/plain": [
       "<IPython.core.display.Javascript object>"
      ]
     },
     "metadata": {},
     "output_type": "display_data"
    }
   ],
   "source": [
    "%%javascript\n",
    "require.config({\n",
    "    paths: {d3: 'https://d3js.org/d3.v5.min'}\n",
    "});\n"
   ]
  },
  {
   "cell_type": "code",
   "execution_count": 5,
   "metadata": {},
   "outputs": [
    {
     "data": {
      "application/javascript": [
       "(function(element) {\n",
       "    require(['d3'], function(d3) {   \n",
       "        var data = [1, 2, 4, 8, 16, 8, 4, 2, 1]\n",
       "\n",
       "        var svg = d3.select(element.get(0)).append('svg')\n",
       "            .attr('width', 400)\n",
       "            .attr('height', 200);\n",
       "        svg.selectAll('circle')\n",
       "            .data(data)\n",
       "            .enter()\n",
       "            .append('circle')\n",
       "            .attr(\"cx\", function(d, i) {return 40 * (i + 1);})\n",
       "            .attr(\"cy\", function(d, i) {return 100 + 30 * (i % 3 - 1);})\n",
       "            .style(\"fill\", \"#1570a4\")\n",
       "            .transition().duration(2000)\n",
       "            .attr(\"r\", function(d) {return 2*d;})\n",
       "        ;\n",
       "    })\n",
       "})(element);"
      ],
      "text/plain": [
       "<IPython.core.display.Javascript object>"
      ]
     },
     "metadata": {},
     "output_type": "display_data"
    }
   ],
   "source": [
    "%%javascript\n",
    "(function(element) {\n",
    "    require(['d3'], function(d3) {   \n",
    "        var data = [1, 2, 4, 8, 16, 8, 4, 2, 1]\n",
    "\n",
    "        var svg = d3.select(element.get(0)).append('svg')\n",
    "            .attr('width', 400)\n",
    "            .attr('height', 200);\n",
    "        svg.selectAll('circle')\n",
    "            .data(data)\n",
    "            .enter()\n",
    "            .append('circle')\n",
    "            .attr(\"cx\", function(d, i) {return 40 * (i + 1);})\n",
    "            .attr(\"cy\", function(d, i) {return 100 + 30 * (i % 3 - 1);})\n",
    "            .style(\"fill\", \"#1570a4\")\n",
    "            .transition().duration(2000)\n",
    "            .attr(\"r\", function(d) {return 2*d;})\n",
    "        ;\n",
    "    })\n",
    "})(element);"
   ]
  },
  {
   "cell_type": "markdown",
   "metadata": {},
   "source": [
    "---\n",
    "## Why D3\n",
    "\n",
    "##### Free & Open Source\n",
    "\n",
    "##### Has a strong community\n",
    "\n",
    "\n",
    "##### Story telling with data and big-data friendly\n",
    "e.g. [web cloud generator](https://flexiodata.github.io/examples/demo-webpage-word-cloud-generator/)\n",
    "\n",
    "##### Provides felxible and dynamic interactive data visulization\n",
    "\n",
    "e.g. [a weather map](https://www.ventusky.com/?p=-14;129;2&l=temperature-2m), \n",
    "\n",
    "\n",
    "---\n",
    "## Who Is Using It\n",
    "\n",
    "There are 80k dependencies in Github for D3.js\n",
    "\n",
    "And companies like Coursera, Uber, Weebly, New York Times etc. are using it in some part of their businesses.\n",
    "\n",
    "---\n",
    "## What Else\n",
    "\n",
    "Intergration with other frameworks:\n",
    "\n",
    "[D3-react](https://react-d3-library.github.io/),\n",
    "[D3-rails](https://github.com/iblue/d3-rails)\n",
    "\n",
    "\n",
    "---\n",
    "## Links You Might Like\n",
    "\n",
    "[D3 API page](https://github.com/d3/d3/blob/master/API.md)\n",
    "\n",
    "[A Beginner's Guide to Using D3](https://website.education.wisc.edu/~swu28/d3t/index.html)\n",
    "\n",
    "[A collection of learning recourses](https://mode.com/blog/learn-d3)\n",
    "\n",
    "[Big list of D3.js examples](https://christopheviau.com/d3list/)\n",
    "\n",
    "[FREE Udacity course](https://www.udacity.com/course/data-visualization-and-d3js--ud507)"
   ]
  }
 ],
 "metadata": {
  "kernelspec": {
   "display_name": "Python 3",
   "language": "python",
   "name": "python3"
  },
  "language_info": {
   "codemirror_mode": {
    "name": "ipython",
    "version": 3
   },
   "file_extension": ".py",
   "mimetype": "text/x-python",
   "name": "python",
   "nbconvert_exporter": "python",
   "pygments_lexer": "ipython3",
   "version": "3.5.2"
  }
 },
 "nbformat": 4,
 "nbformat_minor": 4
}
